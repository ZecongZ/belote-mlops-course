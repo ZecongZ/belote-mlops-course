{
 "cells": [
  {
   "cell_type": "markdown",
   "id": "56969d37",
   "metadata": {},
   "source": [
    "![title](../assets/problem.png)"
   ]
  },
  {
   "cell_type": "code",
   "execution_count": null,
   "id": "5be7e877",
   "metadata": {},
   "outputs": [],
   "source": [
    "import json\n",
    "import pandas as pd\n",
    "import numpy as np\n",
    "import requests\n",
    "import matplotlib.pyplot as plt\n",
    "import plotly.express as px\n",
    "from typing import Dict, List, Union, Any\n",
    "import warnings\n",
    "\n",
    "warnings.simplefilter(action='ignore', category=FutureWarning)\n",
    "warnings.filterwarnings('ignore')"
   ]
  },
  {
   "cell_type": "code",
   "execution_count": null,
   "id": "fff6e1c8",
   "metadata": {},
   "outputs": [],
   "source": [
    "pd.set_option('display.max_rows', 500)\n",
    "pd.set_option('display.max_columns', 500)\n",
    "pd.set_option('display.width', 5000)\n",
    "pd.set_option('max_colwidth', 5000)"
   ]
  },
  {
   "cell_type": "code",
   "execution_count": null,
   "id": "407bd2a5",
   "metadata": {},
   "outputs": [],
   "source": [
    "BASE_PATH = \"/Users/seanariel/Desktop/la-maniee/data/mlops\"\n",
    "\n",
    "PATH_TO_SYNTHETIC_DATA = f\"{BASE_PATH}/synthetic_data_contract.csv\"\n",
    "PATH_TO_EXPLODED_FEATURES = f\"{BASE_PATH}/exploded_features.csv\"\n",
    "PATH_TO_FEATURE_STORE = f\"{BASE_PATH}/feature_store.csv\"\n",
    "PATH_TO_DEV_TRAINING_DATA = f\"{BASE_PATH}/dev_training.csv\"\n",
    "PATH_TO_DEV_TESTING_DATA = f\"{BASE_PATH}/dev_testing.csv\"\n",
    "PATH_TO_AUTOML_TRAINING_DATA = f\"{BASE_PATH}/automl_training.csv\"\n",
    "PATH_TO_PRECISION_RECALL = f\"{BASE_PATH}/precision_recall.csv\"\n",
    "PATH_TO_OPTIMAL_MODEL = f\"{BASE_PATH}/optimal_model.pickle\"\n",
    "PATH_TO_PRODUCTION_MODEL = f\"{BASE_PATH}/production_model.pickle\"\n",
    "PATH_TO_TRAINING_DATA = f\"{BASE_PATH}/training.csv\"\n",
    "PATH_TO_EXPERIMENTATION_DATA = f\"{BASE_PATH}/experimentation.csv\""
   ]
  },
  {
   "cell_type": "markdown",
   "id": "306c438f",
   "metadata": {},
   "source": [
    "# Table of Content:\n",
    "* [Overview](#first-bullet)\n",
    "* [Feature Engineering](#second-bullet)\n",
    "* [Model Development](#third-bullet)\n",
    "* [Model Training](#fourth-bullet)\n",
    "* [Model Serving](#fifth-bullet)\n",
    "* [Model Experimentation](#sixth-bullet)"
   ]
  },
  {
   "cell_type": "markdown",
   "id": "0e20439d",
   "metadata": {},
   "source": [
    "# Feature Engineering <a class=\"anchor\" id=\"second-bullet\"></a>"
   ]
  },
  {
   "cell_type": "code",
   "execution_count": null,
   "id": "7bcfcb0c",
   "metadata": {},
   "outputs": [],
   "source": [
    "FEATURE_CONVERTER_ENDPOINT = \"http://34.77.247.189:1337/cards_to_features\"\n",
    "\n",
    "\n",
    "def clean_feature(hand: str, return_as_scalar: bool = True) -> Dict[str, int]:\n",
    "    \"\"\"\n",
    "    In:\n",
    "    {\n",
    "        \"raw_hand\": \"8H.KC.QH.9D.QC.TC.7H.QD.AH.JD.TH.TS\"\n",
    "    }\n",
    "    Out:\n",
    "        has_3_cards_in_suit_clubs\n",
    "        has_2_cards_in_suit_diamonds\n",
    "        has_5_cards_in_suit_hearts\n",
    "        has_1_cards_in_suit_spades\n",
    "        [...]\n",
    "    \"\"\"\n",
    "    response = requests.post(\n",
    "        FEATURE_CONVERTER_ENDPOINT, \n",
    "        json={\"raw_hand\": hand, \"return_as_scalar\": return_as_scalar}\n",
    "    )\n",
    "    features: Dict = response.json()\n",
    "    return features"
   ]
  },
  {
   "cell_type": "markdown",
   "id": "d5a2249e",
   "metadata": {},
   "source": [
    "# Model Serving <a class=\"anchor\" id=\"fifth-bullet\"></a>"
   ]
  },
  {
   "cell_type": "code",
   "execution_count": null,
   "id": "dfcb2e75",
   "metadata": {},
   "outputs": [],
   "source": [
    "import pickle\n",
    "from werkzeug.wrappers import Request, Response\n",
    "from flask import Flask, jsonify, request\n",
    "import requests\n",
    "import pandas as pd"
   ]
  },
  {
   "cell_type": "code",
   "execution_count": null,
   "id": "725cd38d",
   "metadata": {},
   "outputs": [],
   "source": [
    "SAMPLE = 1\n",
    "feature_store = pd.read_csv(PATH_TO_FEATURE_STORE, nrows=SAMPLE)"
   ]
  },
  {
   "cell_type": "code",
   "execution_count": null,
   "id": "c8d43c50",
   "metadata": {},
   "outputs": [],
   "source": [
    "POTENTIAL_TARGETS = [\"reward\", \"p1_has_won\"]\n",
    "TARGET = \"p1_has_won\"\n",
    "SEGMENTS = [\"reward\", \"contract\"]\n",
    "COVARIATES = list(filter(lambda covariate: covariate not in (POTENTIAL_TARGETS + SEGMENTS), feature_store.columns))"
   ]
  },
  {
   "cell_type": "markdown",
   "id": "a8199e88",
   "metadata": {},
   "source": [
    "### Prepare the features"
   ]
  },
  {
   "cell_type": "code",
   "execution_count": null,
   "id": "7c3f5b87",
   "metadata": {},
   "outputs": [],
   "source": [
    "\"\"\"\n",
    "The convention here to follow is to input the hand correctly to the API endpoint.\n",
    "\n",
    "Names: 7, 8, 9, T(=10), J(=jack), Q(=queen), K(=king), A(=ace)\n",
    "Suits: C(=clubs), D(=diamonds), H(=hearts), S(=spades)\n",
    "\n",
    "Hand Inputing:\n",
    "\n",
    "-----------------------\n",
    "     8D KC JS 7S (=> to compute p2_face_value)\n",
    "     \n",
    "     9C JC KH 8S\n",
    "AS QS TS 9S TD AD KD TC\n",
    "\n",
    "-----------------------\n",
    "      8 9 10 11\n",
    "   0 1 2 3 4 5 6 7\n",
    "-----------------------\n",
    "\n",
    "=> AS.QS.TS.9S.TD.AD.KD.TC.9C.JC.KH.8S\n",
    "\"\"\"\n",
    "\n",
    "HAND = \"AS.QS.TS.9S.TD.AD.KD.TC.9C.JC.KH.8S\""
   ]
  },
  {
   "cell_type": "code",
   "execution_count": null,
   "id": "52fd5faf",
   "metadata": {},
   "outputs": [],
   "source": [
    "data = {\n",
    "    \"raw_features\": HAND,\n",
    "    \"last_bidder\": 1, \n",
    "    \"starter\": 1,\n",
    "    \"clubs\": 0,\n",
    "    \"diamonds\": 0,\n",
    "    \"hearts\": 0,\n",
    "    \"spades\": 1,\n",
    "    \"sans_atouts\": 0,\n",
    "    \"tout_atouts\": 0,\n",
    "    \"p1_face_value\": 79,\n",
    "    \"p2_face_value\": 24\n",
    "}\n",
    "data"
   ]
  },
  {
   "cell_type": "code",
   "execution_count": null,
   "id": "7c98d107",
   "metadata": {},
   "outputs": [],
   "source": [
    "\"\"\"\n",
    "To be able to leverage the model, we must replicate the feature engineering pipeline,\n",
    "which means building the same features.\n",
    "\n",
    "This code replication is very bad practices as we are implementing the same functionality in 2 different pipelines, \n",
    "so we must now maintain both as code changes\n",
    "\"\"\"\n",
    "def build_extra_features(features_dict: Dict) -> Dict:\n",
    "    features_dict[\"total_BR_points\"] = (\n",
    "    features_dict[\"has_BR_at_clubs\"] +\n",
    "    features_dict[\"has_BR_at_diamonds\"] +\n",
    "    features_dict[\"has_BR_at_hearts\"] +\n",
    "    features_dict[\"has_BR_at_spades\"]\n",
    "    )\n",
    "    features_dict[\"total_tierce_points\"] = (\n",
    "        features_dict[\"has_tierce_at_clubs\"] +\n",
    "        features_dict[\"has_tierce_at_diamonds\"] +\n",
    "        features_dict[\"has_tierce_at_hearts\"] +\n",
    "        features_dict[\"has_tierce_at_spades\"]\n",
    "    )\n",
    "    features_dict[\"total_AnD_points\"] = features_dict[\"total_BR_points\"] + features_dict[\"total_tierce_points\"]\n",
    "    return features_dict"
   ]
  },
  {
   "cell_type": "markdown",
   "id": "2012ad5a",
   "metadata": {},
   "source": [
    "### Launch the webserver"
   ]
  },
  {
   "cell_type": "code",
   "execution_count": null,
   "id": "26fa3251",
   "metadata": {},
   "outputs": [],
   "source": [
    "app = Flask(__name__)\n",
    "\n",
    "@app.route(\"/serve_model\", methods=[\"POST\"])\n",
    "def serve_model():\n",
    "    \"\"\"\n",
    "    In:\n",
    "    {\n",
    "        'raw_features': 'AS.QS.TS.9S.TD.AD.KD.TC.9C.JC.KH.8S',\n",
    "        \"last_bidder\": 1,\n",
    "        \"starter\": 1,\n",
    "        \"clubs\": 0,\n",
    "        \"diamonds\": 0,\n",
    "        \"hearts\": 0,\n",
    "        \"spades\": 1,\n",
    "        \"sans_atouts\": 0,\n",
    "        \"tout_atouts\": 0,\n",
    "        \"p1_face_value\": 79,\n",
    "        \"p2_face_value\": 24\n",
    "    }\n",
    "    Out:\n",
    "    {\n",
    "        \"prediction\": {\n",
    "            \"win_probability\": [\n",
    "                0.61\n",
    "            ]\n",
    "        }\n",
    "    }\n",
    "    \"\"\"\n",
    "    data: Dict = request.json\n",
    "    raw_features: str = data.get(\"raw_features\")\n",
    "    other_info: Dict = {k: v for k, v in data.items() if k != \"raw_features\"}\n",
    "    processed_features = clean_feature(raw_features, return_as_scalar=True)\n",
    "    processed_features = build_extra_features(processed_features)\n",
    "    processed_features = {**other_info, **processed_features}\n",
    "    processed_features = {k: [v] for k, v in processed_features.items()}\n",
    "    features_df = pd.DataFrame()\n",
    "    features_df = pd.concat([features_df, pd.DataFrame(processed_features)])\n",
    "    with open(PATH_TO_PRODUCTION_MODEL, 'rb') as handle:\n",
    "        production_model = pickle.load(handle)\n",
    "    predictions = production_model.predict_proba(features_df[COVARIATES])[:, 1]\n",
    "    return jsonify({\"prediction\": {\"win_probability\": predictions.tolist()}})\n",
    "\n",
    "if __name__ == '__main__':\n",
    "    \n",
    "    from werkzeug.serving import run_simple\n",
    "    run_simple('localhost', 9000, app)"
   ]
  },
  {
   "cell_type": "markdown",
   "id": "d7e3e3f4",
   "metadata": {},
   "source": [
    "### [Optional] Assignment 5 - Google Cloud Functions"
   ]
  },
  {
   "cell_type": "markdown",
   "id": "45600b0c",
   "metadata": {},
   "source": [
    "Let's deployed a serverless pipeline through <a> Google Cloud Functions </a>. This will allow us to serve our model at minimal cost and downtime.\n",
    "\n",
    "But first, make sure to follow this lab on <a> POSTMAN </a>, which will be very useful to consume our model serving later on.\n",
    "\n",
    "Once complete, head over to Google Cloud Functions to complete the lab"
   ]
  },
  {
   "cell_type": "markdown",
   "id": "d63c33a3",
   "metadata": {},
   "source": [
    "#### Credit"
   ]
  },
  {
   "cell_type": "markdown",
   "id": "5fd506e2",
   "metadata": {},
   "source": [
    "Note:\n",
    "This content has been developed by Sean Ariel for educational purposes, specifically for Nuclio Digital School students. \n",
    "It is a practical training that cannot be copied, reproduced, distributed without the explicit consent from the author. © Sean Ariel"
   ]
  }
 ],
 "metadata": {
  "kernelspec": {
   "display_name": "Python 3 (ipykernel)",
   "language": "python",
   "name": "python3"
  },
  "language_info": {
   "codemirror_mode": {
    "name": "ipython",
    "version": 3
   },
   "file_extension": ".py",
   "mimetype": "text/x-python",
   "name": "python",
   "nbconvert_exporter": "python",
   "pygments_lexer": "ipython3",
   "version": "3.8.15"
  }
 },
 "nbformat": 4,
 "nbformat_minor": 5
}
