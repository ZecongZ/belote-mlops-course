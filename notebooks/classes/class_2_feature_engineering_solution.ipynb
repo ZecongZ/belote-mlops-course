{
 "cells": [
  {
   "cell_type": "markdown",
   "id": "56969d37",
   "metadata": {},
   "source": [
    "![title](../assets/problem.png)"
   ]
  },
  {
   "cell_type": "code",
   "execution_count": null,
   "id": "5be7e877",
   "metadata": {},
   "outputs": [],
   "source": [
    "import json\n",
    "import pandas as pd\n",
    "import numpy as np\n",
    "import requests\n",
    "import matplotlib.pyplot as plt\n",
    "import plotly.express as px\n",
    "from typing import Dict, List, Union, Any\n",
    "import warnings\n",
    "\n",
    "warnings.simplefilter(action='ignore', category=FutureWarning)\n",
    "warnings.filterwarnings('ignore')"
   ]
  },
  {
   "cell_type": "code",
   "execution_count": null,
   "id": "fff6e1c8",
   "metadata": {},
   "outputs": [],
   "source": [
    "pd.set_option('display.max_rows', 500)\n",
    "pd.set_option('display.max_columns', 500)\n",
    "pd.set_option('display.width', 5000)\n",
    "pd.set_option('max_colwidth', 5000)"
   ]
  },
  {
   "cell_type": "code",
   "execution_count": null,
   "id": "407bd2a5",
   "metadata": {},
   "outputs": [],
   "source": [
    "BASE_PATH = \"/Users/seanariel/Desktop/la-maniee/data/mlops\"\n",
    "\n",
    "PATH_TO_SYNTHETIC_DATA = f\"{BASE_PATH}/synthetic_data_contract.csv\"\n",
    "PATH_TO_EXPLODED_FEATURES = f\"{BASE_PATH}/exploded_features.csv\"\n",
    "PATH_TO_FEATURE_STORE = f\"{BASE_PATH}/feature_store.csv\"\n",
    "PATH_TO_DEV_TRAINING_DATA = f\"{BASE_PATH}/dev_training.csv\"\n",
    "PATH_TO_DEV_TESTING_DATA = f\"{BASE_PATH}/dev_testing.csv\"\n",
    "PATH_TO_AUTOML_TRAINING_DATA = f\"{BASE_PATH}/automl_training.csv\"\n",
    "PATH_TO_PRECISION_RECALL = f\"{BASE_PATH}/precision_recall.csv\"\n",
    "PATH_TO_OPTIMAL_MODEL = f\"{BASE_PATH}/optimal_model.pickle\"\n",
    "PATH_TO_PRODUCTION_MODEL = f\"{BASE_PATH}/production_model.pickle\"\n",
    "PATH_TO_TRAINING_DATA = f\"{BASE_PATH}/training.csv\"\n",
    "PATH_TO_EXPERIMENTATION_DATA = f\"{BASE_PATH}/experimentation.csv\""
   ]
  },
  {
   "cell_type": "markdown",
   "id": "306c438f",
   "metadata": {},
   "source": [
    "# Table of Content:\n",
    "* [Overview](#first-bullet)\n",
    "* [Feature Engineering](#second-bullet)\n",
    "* [Model Development](#third-bullet)\n",
    "* [Model Training](#fourth-bullet)\n",
    "* [Model Serving](#fifth-bullet)\n",
    "* [Model Experimentation](#sixth-bullet)"
   ]
  },
  {
   "cell_type": "markdown",
   "id": "6bac2946",
   "metadata": {},
   "source": [
    "# Overview  <a class=\"anchor\" id=\"first-bullet\"></a>"
   ]
  },
  {
   "cell_type": "markdown",
   "id": "3543aefd",
   "metadata": {},
   "source": [
    "### Load the data"
   ]
  },
  {
   "cell_type": "code",
   "execution_count": null,
   "id": "049fc81e",
   "metadata": {},
   "outputs": [],
   "source": [
    "synthetic_game_data = pd.read_csv(PATH_TO_SYNTHETIC_DATA)"
   ]
  },
  {
   "cell_type": "markdown",
   "id": "4e0e5331",
   "metadata": {},
   "source": [
    "### Get a first feeling of the features"
   ]
  },
  {
   "cell_type": "code",
   "execution_count": null,
   "id": "15f42bdb",
   "metadata": {},
   "outputs": [],
   "source": [
    "synthetic_game_data.head(1)"
   ]
  },
  {
   "cell_type": "code",
   "execution_count": null,
   "id": "524a5e9f",
   "metadata": {},
   "outputs": [],
   "source": [
    "synthetic_game_data.info()"
   ]
  },
  {
   "cell_type": "markdown",
   "id": "b07734e3",
   "metadata": {},
   "source": [
    "### Define the statics"
   ]
  },
  {
   "cell_type": "code",
   "execution_count": null,
   "id": "8a86bdba",
   "metadata": {},
   "outputs": [],
   "source": [
    "SUITS = [\"clubs\", \"diamonds\", \"hearts\", \"spades\"]\n",
    "CARDS = [\"seven\", \"eight\", \"nine\", \"ten\", \"jack\", \"queen\", \"king\", \"ace\"]\n",
    "\n",
    "FEATURE_NAMES = [\n",
    "    \"feature_count_of_suit\",\n",
    "    \"feature_count_of_cards\",\n",
    "    \"feature_belote_rebelote_points\",\n",
    "    \"feature_tierce_plus_points\"\n",
    "]\n",
    "\n",
    "feature_count_of_suit = [f\"has_x_cards_in_suit_{suit}\" for suit in SUITS]\n",
    "feature_count_of_cards = [f\"has_x_{card}s\" for card in CARDS]\n",
    "feature_belote_rebelote_points = [f\"has_BR_at_{suit}\" for suit in SUITS]\n",
    "feature_tierce_plus_points = [f\"has_tierce_at_{suit}\" for suit in SUITS]\n",
    "\n",
    "FEATURES_EXPLODED = {\n",
    "    \"feature_count_of_suit\": feature_count_of_suit,\n",
    "    \"feature_count_of_cards\": feature_count_of_cards,\n",
    "    \"feature_belote_rebelote_points\": feature_belote_rebelote_points,\n",
    "    \"feature_tierce_plus_points\": feature_tierce_plus_points\n",
    "}"
   ]
  },
  {
   "cell_type": "markdown",
   "id": "0e20439d",
   "metadata": {},
   "source": [
    "# Feature Engineering <a class=\"anchor\" id=\"second-bullet\"></a>"
   ]
  },
  {
   "cell_type": "markdown",
   "id": "5c8e0a38",
   "metadata": {},
   "source": [
    "###  Set up the feature store"
   ]
  },
  {
   "cell_type": "code",
   "execution_count": null,
   "id": "53c86e5c",
   "metadata": {},
   "outputs": [],
   "source": [
    "base_features_df = pd.DataFrame(\n",
    "    columns=(\n",
    "        feature_count_of_suit +\n",
    "        feature_count_of_cards + \n",
    "        feature_belote_rebelote_points + \n",
    "        feature_tierce_plus_points\n",
    "    )\n",
    ")"
   ]
  },
  {
   "cell_type": "markdown",
   "id": "e64ffaf2",
   "metadata": {},
   "source": [
    "### Write the processing helpers"
   ]
  },
  {
   "cell_type": "code",
   "execution_count": null,
   "id": "7bcfcb0c",
   "metadata": {},
   "outputs": [],
   "source": [
    "\"\"\"\n",
    "We need to convert the raw features to a proper format,\n",
    "so that it is ingestable by the ML Model\n",
    "\"\"\"\n",
    "\n",
    "from functools import wraps\n",
    "import time\n",
    "\n",
    "\n",
    "def timing(func):\n",
    "    @wraps(func)\n",
    "    def timeit_wrapper(*args, **kwargs):\n",
    "        start_time = time.perf_counter()\n",
    "        result = func(*args, **kwargs)\n",
    "        end_time = time.perf_counter()\n",
    "        total_time = end_time - start_time\n",
    "        print(f'Function {func.__name__}{args} {kwargs} Took {total_time:.4f} seconds')\n",
    "        return result\n",
    "    return timeit_wrapper\n",
    "\n",
    "\n",
    "\n",
    "FEATURE_CONVERTER_ENDPOINT = \"http://34.77.247.189:1337/cards_to_features\"\n",
    "\n",
    "\n",
    "def clean_feature(hand: str, return_as_scalar: bool = True) -> Dict[str, int]:\n",
    "    \"\"\"\n",
    "    In:\n",
    "    {\n",
    "        \"raw_hand\": \"8H.KC.QH.9D.QC.TC.7H.QD.AH.JD.TH.TS\"\n",
    "    }\n",
    "    Out:\n",
    "        has_3_cards_in_suit_clubs\n",
    "        has_2_cards_in_suit_diamonds\n",
    "        has_5_cards_in_suit_hearts\n",
    "        has_1_cards_in_suit_spades\n",
    "        [...]\n",
    "    \"\"\"\n",
    "    response = requests.post(\n",
    "        FEATURE_CONVERTER_ENDPOINT, \n",
    "        json={\"raw_hand\": hand, \"return_as_scalar\": return_as_scalar}\n",
    "    )\n",
    "    features: Dict = response.json()\n",
    "    return features"
   ]
  },
  {
   "cell_type": "markdown",
   "id": "cf889b3e",
   "metadata": {},
   "source": [
    "### Launch simple sequential processing   "
   ]
  },
  {
   "cell_type": "code",
   "execution_count": null,
   "id": "2a288c85",
   "metadata": {},
   "outputs": [],
   "source": [
    "# %%timeit\n",
    "\n",
    "SAMPLE = 1000\n",
    "VERBOSE = True\n",
    "\n",
    "\n",
    "@timing\n",
    "def sequential_requests() -> pd.DataFrame:\n",
    "    features_df_copy = base_features_df.copy()\n",
    "    idx = 0\n",
    "    for raw_feature in synthetic_game_data[\"raw_features\"].values[0:SAMPLE]:\n",
    "        output = clean_feature(raw_feature, return_as_scalar=False)\n",
    "        features_df_copy = pd.concat([features_df_copy, pd.DataFrame(output)])\n",
    "        idx += 1\n",
    "        if idx % 100 == 0 and VERBOSE:\n",
    "            print(idx)\n",
    "    return features_df_copy\n",
    "\n",
    "features_df_copy = sequential_requests()"
   ]
  },
  {
   "cell_type": "code",
   "execution_count": null,
   "id": "910b1bac",
   "metadata": {},
   "outputs": [],
   "source": [
    "print(features_df_copy.shape)\n",
    "features_df_copy.head()"
   ]
  },
  {
   "cell_type": "markdown",
   "id": "a9a9bebf",
   "metadata": {},
   "source": [
    "### (1/2) Parallelize the workload"
   ]
  },
  {
   "cell_type": "code",
   "execution_count": null,
   "id": "d0edae9c",
   "metadata": {},
   "outputs": [],
   "source": [
    "\"\"\"\n",
    "This should improve significantly the processing time\n",
    "\"\"\"\n",
    "\n",
    "import multiprocess as mp\n",
    "\n",
    "\n",
    "SAMPLE = 1000\n",
    "VERBOSE = True\n",
    "\n",
    "\n",
    "@timing\n",
    "def multiprocessing_requests() -> pd.DataFrame:\n",
    "    features_df = base_features_df.copy()\n",
    "    with mp.Pool(5) as p:\n",
    "        output = p.map(clean_feature, synthetic_game_data[\"raw_features\"].values[0:SAMPLE])\n",
    "    features_df = pd.concat([features_df, pd.DataFrame(output)])\n",
    "    return features_df\n",
    "\n",
    "features_df = multiprocessing_requests()"
   ]
  },
  {
   "cell_type": "code",
   "execution_count": null,
   "id": "f2436ec7",
   "metadata": {},
   "outputs": [],
   "source": [
    "print(features_df.shape)\n",
    "features_df.head()"
   ]
  },
  {
   "cell_type": "markdown",
   "id": "75edc646",
   "metadata": {},
   "source": [
    "### (2/2) Parallelize the workload"
   ]
  },
  {
   "cell_type": "code",
   "execution_count": null,
   "id": "c00f9769",
   "metadata": {},
   "outputs": [],
   "source": [
    "import asyncio\n",
    "import aiohttp\n",
    "from aiohttp import ClientSession, ClientConnectorError\n",
    "\n",
    "\n",
    "SAMPLE = 1000\n",
    "VERBOSE = True\n",
    "\n",
    "\n",
    "async def make_request(hand: str, session: ClientSession, **kwargs) -> tuple:\n",
    "    try:\n",
    "        resp = await session.request(\n",
    "            method=\"POST\", \n",
    "            url=FEATURE_CONVERTER_ENDPOINT, \n",
    "            json={\"raw_hand\": hand, \"return_as_scalar\": True}, \n",
    "            **kwargs\n",
    "        )\n",
    "    except ClientConnectorError:\n",
    "        return (hand, 404)\n",
    "    feature = await resp.json()\n",
    "    return feature\n",
    "\n",
    "\n",
    "async def async_requests(hands: set, **kwargs) -> None:\n",
    "    async with ClientSession() as session:\n",
    "        tasks = []\n",
    "        for hand in hands:\n",
    "            tasks.append(\n",
    "                make_request(hand=hand, session=session, **kwargs)\n",
    "            )\n",
    "        results = await asyncio.gather(*tasks)\n",
    "    return results\n",
    "\n",
    "\n",
    "start_time = time.perf_counter()\n",
    "features_df = base_features_df.copy()\n",
    "hands = synthetic_game_data[\"raw_features\"].values[0:SAMPLE]\n",
    "output = await async_requests(hands)\n",
    "features_df = pd.concat([features_df, pd.DataFrame(output)])\n",
    "end_time = time.perf_counter()\n",
    "total_time = end_time - start_time\n",
    "print(f'Function async_requests() () Took {total_time:.4f} seconds')"
   ]
  },
  {
   "cell_type": "code",
   "execution_count": null,
   "id": "dc7a3f8b",
   "metadata": {},
   "outputs": [],
   "source": [
    "print(features_df.shape)\n",
    "features_df.head()"
   ]
  },
  {
   "cell_type": "markdown",
   "id": "e59f037b",
   "metadata": {},
   "source": [
    "### Build custom features"
   ]
  },
  {
   "cell_type": "code",
   "execution_count": null,
   "id": "acfe9744",
   "metadata": {},
   "outputs": [],
   "source": [
    "\"\"\"\n",
    "The DS didn't think it through.\n",
    "Let's add our own custom features for model enhancement\n",
    "\"\"\"\n",
    "\n",
    "def feature_total_BR_points(features_df: pd.DataFrame) -> pd.DataFrame:\n",
    "    \"\"\"\n",
    "    Sum of all the Belote Rebelote declaration points\n",
    "    \n",
    "    In:\n",
    "    has_BR_at_clubs | has_BR_at_diamonds | has_BR_at_hearts | has_BR_at_spades\n",
    "    0                 20                   20                 0\n",
    "    Out:\n",
    "    total_BR_points \n",
    "    40\n",
    "    \"\"\"\n",
    "    features_df[\"total_BR_points\"] = (\n",
    "        features_df[\"has_BR_at_clubs\"] +\n",
    "        features_df[\"has_BR_at_diamonds\"] +\n",
    "        features_df[\"has_BR_at_hearts\"] +\n",
    "        features_df[\"has_BR_at_spades\"]\n",
    "    )\n",
    "    return features_df\n",
    "\n",
    "\n",
    "def feature_total_tierce_points(features_df: pd.DataFrame) -> pd.DataFrame:\n",
    "    \"\"\"\n",
    "    Sum of all the tierce announced points\n",
    "    \n",
    "    In:\n",
    "    has_tierce_at_clubs | has_tierce_at_diamonds | has_tierce_at_hearts | has_tierce_at_spades\n",
    "    20                    0                        0                      20\n",
    "    Out:\n",
    "    total_tierce_points \n",
    "            40\n",
    "    \"\"\"\n",
    "    features_df[\"total_tierce_points\"] = (\n",
    "        features_df[\"has_tierce_at_clubs\"] +\n",
    "        features_df[\"has_tierce_at_diamonds\"] +\n",
    "        features_df[\"has_tierce_at_hearts\"] +\n",
    "        features_df[\"has_tierce_at_spades\"]\n",
    "    )\n",
    "    return features_df\n",
    "\n",
    "def feature_total_AnD_points(features_df: pd.DataFrame) -> pd.DataFrame:\n",
    "    \"\"\"\n",
    "    Sum of the announced & declared points\n",
    "    \n",
    "    In:\n",
    "    total_BR_points | total_tierce_points\n",
    "    40                40\n",
    "    Out:\n",
    "    total_AnD_points \n",
    "    80\n",
    "    \"\"\"\n",
    "    features_df[\"total_AnD_points\"] = (\n",
    "        features_df[\"total_BR_points\"] + \n",
    "        features_df[\"total_tierce_points\"]\n",
    "    )\n",
    "    return features_df\n",
    "\n",
    "def merge_synthetic_and_features(synthetic_game_data: pd.DataFrame, features_df: pd.DataFrame) -> pd.DataFrame:\n",
    "    \"\"\"\n",
    "    Merge base set of features with newly build ones\n",
    "    \n",
    "    In:\n",
    "    contract | reward ... + has_x_cards_in_suit_clubs | has_x_cards_in_suit_diamonds ...\n",
    "    \n",
    "    Out:\n",
    "    contract | reward | has_x_cards_in_suit_clubs | has_x_cards_in_suit_diamonds ...\n",
    "    \"\"\"\n",
    "    merged_df = pd.concat(\n",
    "        [\n",
    "            synthetic_game_data[\n",
    "                [\"contract\", \"reward\", \"last_bidder\", \"starter\", \"p1_face_value\", \"p2_face_value\"]\n",
    "            ].reset_index(drop=True), \n",
    "            features_df.reset_index(drop=True)\n",
    "        ], \n",
    "        axis=1\n",
    "    )\n",
    "    return merged_df\n",
    "\n",
    "def encode_contract(merged_df: pd.DataFrame) -> pd.DataFrame:\n",
    "    \"\"\"\n",
    "    One hot encoding of the contract\n",
    "    \n",
    "    In:\n",
    "    contract | ...\n",
    "    spades\n",
    "    hearts\n",
    "    clubs\n",
    "    \n",
    "    Out:\n",
    "    clubs | diamonds | hearts | spades | ...\n",
    "    0       0          0        1\n",
    "    0       0          1        0\n",
    "    1       0          0        0\n",
    "    \"\"\"\n",
    "    return pd.concat([merged_df, pd.get_dummies(merged_df.contract)], axis=1)\n",
    "\n",
    "def categorize_reward(merged_df: pd.DataFrame) -> pd.DataFrame:\n",
    "    \"\"\"\n",
    "    Turn the rewards into a binary stating whether P1 has won\n",
    "    \n",
    "    In:\n",
    "    reward | ...\n",
    "    -10\n",
    "    0\n",
    "    10\n",
    "    \n",
    "    Out:\n",
    "    p1_has_won | ...\n",
    "    0\n",
    "    0\n",
    "    1\n",
    "    \"\"\"\n",
    "    merged_df[\"p1_has_won\"] = merged_df[\"reward\"].apply(\n",
    "        lambda reward: 1 if reward > 0 else 0\n",
    "    )\n",
    "    return merged_df\n",
    "\n",
    "def build_custom_features(synthetic_game_data: pd.DataFrame, features_df: pd.DataFrame) -> pd.DataFrame:\n",
    "    \"\"\"\n",
    "    Pipelining of all processing steps\n",
    "    \"\"\"\n",
    "    features_df = feature_total_BR_points(features_df)\n",
    "    features_df = feature_total_tierce_points(features_df)\n",
    "    features_df = feature_total_AnD_points(features_df)\n",
    "    merged_df = merge_synthetic_and_features(synthetic_game_data, features_df)\n",
    "    merged_df = encode_contract(merged_df)\n",
    "    merged_df = categorize_reward(merged_df)\n",
    "    return merged_df\n",
    "\n",
    "feature_store = build_custom_features(synthetic_game_data, features_df)"
   ]
  },
  {
   "cell_type": "code",
   "execution_count": null,
   "id": "a57e4b2b",
   "metadata": {},
   "outputs": [],
   "source": [
    "feature_store.head()"
   ]
  },
  {
   "cell_type": "markdown",
   "id": "54bcc6fd",
   "metadata": {},
   "source": [
    "### Run a Unit Testing Suite"
   ]
  },
  {
   "cell_type": "code",
   "execution_count": null,
   "id": "bee2dc3a",
   "metadata": {},
   "outputs": [],
   "source": [
    "def features_df_inputs() -> pd.DataFrame:\n",
    "    return pd.DataFrame(\n",
    "        {\n",
    "            \"has_BR_at_clubs\": [1, 2, 3],\n",
    "            \"has_BR_at_diamonds\": [1, 2, 3],\n",
    "            \"has_BR_at_hearts\": [1, 2, 3],\n",
    "            \"has_BR_at_spades\": [1, 2, 3],\n",
    "        }\n",
    "    )\n",
    "\n",
    "\n",
    "def features_df_outputs() -> pd.DataFrame:\n",
    "    return pd.DataFrame(\n",
    "        {\n",
    "            \"has_BR_at_clubs\": [1, 2, 3],\n",
    "            \"has_BR_at_diamonds\": [1, 2, 3],\n",
    "            \"has_BR_at_hearts\": [1, 2, 3],\n",
    "            \"has_BR_at_spades\": [1, 2, 3],\n",
    "\n",
    "            \"total_BR_points\": [4, 8, 12],\n",
    "        }\n",
    "    )\n",
    "\n",
    "\n",
    "def test_custom_feature_total_br_points_works_correctly(features_df_inputs, features_df_outputs):\n",
    "    processed_output = feature_total_BR_points(features_df_inputs)\n",
    "    pd.testing.assert_frame_equal(\n",
    "        features_df_outputs,\n",
    "        processed_output\n",
    "    )\n",
    "    \n",
    "\n",
    "test_custom_feature_total_br_points_works_correctly(features_df_inputs(), features_df_outputs())\n",
    "\n",
    "print(\"All the tests in the suite have run properly\")"
   ]
  },
  {
   "cell_type": "code",
   "execution_count": null,
   "id": "91aa2542",
   "metadata": {},
   "outputs": [],
   "source": [
    "feature_store.to_csv(PATH_TO_FEATURE_STORE, index=False)"
   ]
  },
  {
   "cell_type": "markdown",
   "id": "277cfa0d",
   "metadata": {},
   "source": [
    "### Push the codebase to GH Repository"
   ]
  },
  {
   "cell_type": "markdown",
   "id": "723e85f0",
   "metadata": {},
   "source": [
    "For the next class (model development) we will need the codebase to be available on GH. \n",
    "\n",
    "Follow this <a> GitHub Lab </a> to set this up."
   ]
  },
  {
   "cell_type": "markdown",
   "id": "19ae3970",
   "metadata": {},
   "source": [
    "### [Optional] Assignment 1 - Google Big Query Lab"
   ]
  },
  {
   "cell_type": "markdown",
   "id": "680f1d17",
   "metadata": {},
   "source": [
    "Let's take this party to <a>Google Big Query</a> for the Analytics heavy lifting!\n",
    "\n",
    "Follow the lab and generate the following analysis:\n",
    "- Average reward by initial A&D points\n",
    "- Average reward by initial cards in suit\n",
    "- Average reward by starting position\n",
    "- Average reward by bidding position\n",
    "- Reward vs total points\n",
    "- Average spades A&D points by number of cards in spaces"
   ]
  },
  {
   "cell_type": "markdown",
   "id": "4dda88dc",
   "metadata": {},
   "source": [
    "### [Optional] Assignment 2 - Best Practices Lab"
   ]
  },
  {
   "cell_type": "markdown",
   "id": "a75a147a",
   "metadata": {},
   "source": [
    "Let's get some good coding practices early in. This should ensure the readibility of the scripts we right, which translate in more efficiency when working in a team. \n",
    "\n",
    "Let's head over to <a>Best Practices Tools</a> for a more detailed review of the subject."
   ]
  },
  {
   "cell_type": "markdown",
   "id": "d63c33a3",
   "metadata": {},
   "source": [
    "#### Credit"
   ]
  },
  {
   "cell_type": "markdown",
   "id": "5fd506e2",
   "metadata": {},
   "source": [
    "Note:\n",
    "This content has been developed by Sean Ariel. It is a practical training that cannot be copied, reproduced, distributed without the explicit consent from the author. © Sean Ariel"
   ]
  },
  {
   "cell_type": "code",
   "execution_count": null,
   "id": "2b6b0c61",
   "metadata": {},
   "outputs": [],
   "source": []
  }
 ],
 "metadata": {
  "kernelspec": {
   "display_name": "Python (mlops)",
   "language": "python",
   "name": "mlops"
  },
  "language_info": {
   "codemirror_mode": {
    "name": "ipython",
    "version": 3
   },
   "file_extension": ".py",
   "mimetype": "text/x-python",
   "name": "python",
   "nbconvert_exporter": "python",
   "pygments_lexer": "ipython3",
   "version": "3.10.13"
  }
 },
 "nbformat": 4,
 "nbformat_minor": 5
}
