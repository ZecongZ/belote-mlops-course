{
 "cells": [
  {
   "cell_type": "markdown",
   "id": "56969d37",
   "metadata": {},
   "source": [
    "![title](../assets/problem.png)"
   ]
  },
  {
   "cell_type": "code",
   "execution_count": 1,
   "id": "5be7e877",
   "metadata": {},
   "outputs": [],
   "source": [
    "import json\n",
    "import pandas as pd\n",
    "import numpy as np\n",
    "import requests\n",
    "import matplotlib.pyplot as plt\n",
    "import plotly.express as px\n",
    "from typing import Dict, List, Union, Any\n",
    "import warnings\n",
    "\n",
    "warnings.simplefilter(action='ignore', category=FutureWarning)\n",
    "warnings.filterwarnings('ignore')"
   ]
  },
  {
   "cell_type": "code",
   "execution_count": 3,
   "id": "fff6e1c8",
   "metadata": {},
   "outputs": [],
   "source": [
    "pd.set_option('display.max_rows', 500)\n",
    "pd.set_option('display.max_columns', 500)\n",
    "pd.set_option('display.width', 5000)\n",
    "pd.set_option('max_colwidth', 5000)"
   ]
  },
  {
   "cell_type": "code",
   "execution_count": 2,
   "id": "407bd2a5",
   "metadata": {},
   "outputs": [],
   "source": [
    "BASE_PATH = \"/Users/zhaocong/Desktop/belote-mlops-course/data\"\n",
    "\n",
    "PATH_TO_SYNTHETIC_DATA = f\"{BASE_PATH}/synthetic_data_contract.csv\"\n",
    "PATH_TO_EXPLODED_FEATURES = f\"{BASE_PATH}/exploded_features.csv\"\n",
    "PATH_TO_FEATURE_STORE = f\"{BASE_PATH}/feature_store.csv\"\n",
    "PATH_TO_DEV_TRAINING_DATA = f\"{BASE_PATH}/dev_training.csv\"\n",
    "PATH_TO_DEV_TESTING_DATA = f\"{BASE_PATH}/dev_testing.csv\"\n",
    "PATH_TO_AUTOML_TRAINING_DATA = f\"{BASE_PATH}/automl_training.csv\"\n",
    "PATH_TO_PRECISION_RECALL = f\"{BASE_PATH}/precision_recall.csv\"\n",
    "PATH_TO_OPTIMAL_MODEL = f\"{BASE_PATH}/optimal_model.pickle\"\n",
    "PATH_TO_PRODUCTION_MODEL = f\"{BASE_PATH}/production_model.pickle\"\n",
    "PATH_TO_TRAINING_DATA = f\"{BASE_PATH}/training.csv\"\n",
    "PATH_TO_EXPERIMENTATION_DATA = f\"{BASE_PATH}/experimentation.csv\""
   ]
  },
  {
   "cell_type": "markdown",
   "id": "306c438f",
   "metadata": {},
   "source": [
    "# Table of Content:\n",
    "* [Overview](#first-bullet)\n",
    "* [Feature Engineering](#second-bullet)\n",
    "* [Model Development](#third-bullet)\n",
    "* [Model Training](#fourth-bullet)\n",
    "* [Model Serving](#fifth-bullet)\n",
    "* [Model Experimentation](#sixth-bullet)"
   ]
  },
  {
   "cell_type": "markdown",
   "id": "d2e8c4d9",
   "metadata": {},
   "source": [
    "# Model Training <a class=\"anchor\" id=\"fourth-bullet\"></a>"
   ]
  },
  {
   "cell_type": "code",
   "execution_count": 4,
   "id": "d401ba29",
   "metadata": {},
   "outputs": [],
   "source": [
    "import pickle\n",
    "import pandas as pd"
   ]
  },
  {
   "cell_type": "code",
   "execution_count": 7,
   "id": "b1f3c122",
   "metadata": {},
   "outputs": [],
   "source": [
    "SAMPLE = 10**10\n",
    "feature_store = pd.read_csv(PATH_TO_FEATURE_STORE, nrows=SAMPLE)"
   ]
  },
  {
   "cell_type": "code",
   "execution_count": null,
   "id": "4b76981a",
   "metadata": {},
   "outputs": [],
   "source": [
    "with open(PATH_TO_OPTIMAL_MODEL, 'rb') as handle:\n",
    "    optimal_model = pickle.load(handle)"
   ]
  },
  {
   "cell_type": "code",
   "execution_count": null,
   "id": "dfb7996d",
   "metadata": {},
   "outputs": [],
   "source": [
    "POTENTIAL_TARGETS = [\"reward\", \"p1_has_won\"]\n",
    "TARGET = \"p1_has_won\"\n",
    "SEGMENTS = [\"reward\", \"contract\"]\n",
    "COVARIATES = list(filter(lambda covariate: covariate not in (POTENTIAL_TARGETS + SEGMENTS), feature_store.columns))"
   ]
  },
  {
   "cell_type": "code",
   "execution_count": null,
   "id": "62b9f05b",
   "metadata": {},
   "outputs": [],
   "source": [
    "training_df = feature_store[COVARIATES + [TARGET]]"
   ]
  },
  {
   "cell_type": "code",
   "execution_count": null,
   "id": "99cc9106",
   "metadata": {},
   "outputs": [],
   "source": [
    "optimal_model.fit(\n",
    "    training_df[COVARIATES], training_df[TARGET].values.reshape(-1, 1)\n",
    ")\n",
    "training_df.to_csv(PATH_TO_TRAINING_DATA, index=False)"
   ]
  },
  {
   "cell_type": "code",
   "execution_count": null,
   "id": "5549749e",
   "metadata": {},
   "outputs": [],
   "source": [
    "with open(PATH_TO_PRODUCTION_MODEL, 'wb') as handle:\n",
    "    pickle.dump(optimal_model, handle, protocol=pickle.HIGHEST_PROTOCOL)"
   ]
  },
  {
   "cell_type": "markdown",
   "id": "7c263f4b",
   "metadata": {},
   "source": [
    "### [Optional] Assignment 5 - MLFlow Lab"
   ]
  },
  {
   "cell_type": "markdown",
   "id": "24704ee7",
   "metadata": {},
   "source": [
    "Let's head over to <a> MLFLOW </a> to manage the full lifecycle our our ML Solution and handle its key artificats.\n",
    "\n",
    "This will enable collaboration between different Data Scientists, and it will ensure we implement some of the recommended MLOps best practices, such as thorought governance of the system\n",
    "\n"
   ]
  },
  {
   "cell_type": "markdown",
   "id": "fa38f223",
   "metadata": {},
   "source": [
    "### [Optional]  Assignment 6 - SPARK"
   ]
  },
  {
   "cell_type": "markdown",
   "id": "0640b3aa",
   "metadata": {},
   "source": [
    "There's only so much we can do with Vertical Scaling. Running this training code on our GVM is already much more powerful than training it locally, as this remote server's cores and memory are significantly larger. But we won't be able to train our model on much more sample within a reasonable \n",
    "\n",
    "Time to shift our mindset and get in the world of Distributed Computing (through Horizontal Scaling). We can achieve true scale here, and see what Big Data Processing really means !\n",
    "\n",
    "Let's head over to <a> Spark on Dataproc </a>, one of the most promising technologies developed over the last decade. It's computational engine and large-scale models should allow us build quickly on top of our Feature Store."
   ]
  },
  {
   "cell_type": "markdown",
   "id": "d63c33a3",
   "metadata": {},
   "source": [
    "#### Credit"
   ]
  },
  {
   "cell_type": "markdown",
   "id": "5fd506e2",
   "metadata": {},
   "source": [
    "Note:\n",
    "This content has been developed by Sean Ariel for educational purposes. \n",
    "It is a practical training that cannot be copied, reproduced, distributed without the explicit consent from the author. © Sean Ariel"
   ]
  },
  {
   "cell_type": "code",
   "execution_count": null,
   "id": "c6aebada",
   "metadata": {},
   "outputs": [],
   "source": []
  }
 ],
 "metadata": {
  "kernelspec": {
   "display_name": "Python (mlops)",
   "language": "python",
   "name": "mlops"
  },
  "language_info": {
   "codemirror_mode": {
    "name": "ipython",
    "version": 3
   },
   "file_extension": ".py",
   "mimetype": "text/x-python",
   "name": "python",
   "nbconvert_exporter": "python",
   "pygments_lexer": "ipython3",
   "version": "3.10.13"
  }
 },
 "nbformat": 4,
 "nbformat_minor": 5
}
