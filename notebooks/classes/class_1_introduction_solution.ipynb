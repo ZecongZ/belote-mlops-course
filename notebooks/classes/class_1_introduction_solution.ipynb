{
 "cells": [
  {
   "cell_type": "markdown",
   "id": "56969d37",
   "metadata": {},
   "source": [
    "![title](../assets/problem.png)"
   ]
  },
  {
   "cell_type": "code",
   "execution_count": null,
   "id": "5be7e877",
   "metadata": {},
   "outputs": [],
   "source": [
    "import json\n",
    "import pandas as pd\n",
    "import numpy as np\n",
    "import requests\n",
    "import matplotlib.pyplot as plt\n",
    "import plotly.express as px\n",
    "from typing import Dict, List, Union, Any\n",
    "import warnings\n",
    "\n",
    "warnings.simplefilter(action='ignore', category=FutureWarning)\n",
    "warnings.filterwarnings('ignore')"
   ]
  },
  {
   "cell_type": "code",
   "execution_count": null,
   "id": "fff6e1c8",
   "metadata": {},
   "outputs": [],
   "source": [
    "pd.set_option('display.max_rows', 500)\n",
    "pd.set_option('display.max_columns', 500)\n",
    "pd.set_option('display.width', 5000)\n",
    "pd.set_option('max_colwidth', 5000)"
   ]
  },
  {
   "cell_type": "code",
   "execution_count": null,
   "id": "407bd2a5",
   "metadata": {},
   "outputs": [],
   "source": [
    "BASE_PATH = \"/Users/seanariel/Desktop/la-maniee/data/mlops\"\n",
    "\n",
    "PATH_TO_SYNTHETIC_DATA = f\"{BASE_PATH}/synthetic_data_contract.csv\"\n",
    "PATH_TO_EXPLODED_FEATURES = f\"{BASE_PATH}/exploded_features.csv\"\n",
    "PATH_TO_FEATURE_STORE = f\"{BASE_PATH}/feature_store.csv\"\n",
    "PATH_TO_DEV_TRAINING_DATA = f\"{BASE_PATH}/dev_training.csv\"\n",
    "PATH_TO_DEV_TESTING_DATA = f\"{BASE_PATH}/dev_testing.csv\"\n",
    "PATH_TO_AUTOML_TRAINING_DATA = f\"{BASE_PATH}/automl_training.csv\"\n",
    "PATH_TO_PRECISION_RECALL = f\"{BASE_PATH}/precision_recall.csv\"\n",
    "PATH_TO_OPTIMAL_MODEL = f\"{BASE_PATH}/optimal_model.pickle\"\n",
    "PATH_TO_PRODUCTION_MODEL = f\"{BASE_PATH}/production_model.pickle\"\n",
    "PATH_TO_TRAINING_DATA = f\"{BASE_PATH}/training.csv\"\n",
    "PATH_TO_EXPERIMENTATION_DATA = f\"{BASE_PATH}/experimentation.csv\""
   ]
  },
  {
   "cell_type": "markdown",
   "id": "306c438f",
   "metadata": {},
   "source": [
    "# Table of Content:\n",
    "* [Overview](#first-bullet)\n",
    "* [Feature Engineering](#second-bullet)\n",
    "* [Model Development](#third-bullet)\n",
    "* [Model Training](#fourth-bullet)\n",
    "* [Model Serving](#fifth-bullet)\n",
    "* [Model Experimentation](#sixth-bullet)"
   ]
  },
  {
   "cell_type": "markdown",
   "id": "6bac2946",
   "metadata": {},
   "source": [
    "# Overview  <a class=\"anchor\" id=\"first-bullet\"></a>"
   ]
  },
  {
   "cell_type": "markdown",
   "id": "3543aefd",
   "metadata": {},
   "source": [
    "### Load the data"
   ]
  },
  {
   "cell_type": "code",
   "execution_count": null,
   "id": "049fc81e",
   "metadata": {},
   "outputs": [],
   "source": [
    "synthetic_game_data = pd.read_csv(PATH_TO_SYNTHETIC_DATA)"
   ]
  },
  {
   "cell_type": "markdown",
   "id": "4e0e5331",
   "metadata": {},
   "source": [
    "### Get a first feeling of the features"
   ]
  },
  {
   "cell_type": "code",
   "execution_count": null,
   "id": "15f42bdb",
   "metadata": {},
   "outputs": [],
   "source": [
    "synthetic_game_data.head(5)"
   ]
  },
  {
   "cell_type": "code",
   "execution_count": null,
   "id": "524a5e9f",
   "metadata": {},
   "outputs": [],
   "source": [
    "synthetic_game_data.info()"
   ]
  },
  {
   "cell_type": "markdown",
   "id": "6dc6f4f3",
   "metadata": {},
   "source": [
    "### Ensure the balance/stability in target & covariates"
   ]
  },
  {
   "cell_type": "code",
   "execution_count": null,
   "id": "fdb3a875",
   "metadata": {},
   "outputs": [],
   "source": [
    "synthetic_game_data.describe()"
   ]
  },
  {
   "cell_type": "code",
   "execution_count": null,
   "id": "1cb99b10",
   "metadata": {},
   "outputs": [],
   "source": [
    "DIMENSION = \"contract\"\n",
    "distribution = synthetic_game_data[DIMENSION].value_counts()\n",
    "fig, (ax1, ax2, ax3, ax4) = plt.subplots(4, figsize=(12, 12))\n",
    "fig.suptitle(\"Overview of Distributions\")\n",
    "ax1.bar(distribution.index, distribution.values)\n",
    "ax2.hist(synthetic_game_data[\"p1_face_value\"], bins=np.linspace(-0, 200, 20))\n",
    "ax3.hist(synthetic_game_data[\"p2_face_value\"], bins=np.linspace(-0, 100, 20))\n",
    "ax4.hist(synthetic_game_data[\"reward\"], bins=np.linspace(-400, 400, 50))\n",
    ";"
   ]
  },
  {
   "cell_type": "code",
   "execution_count": null,
   "id": "d0fc4677",
   "metadata": {},
   "outputs": [],
   "source": [
    "import plotly.express as px\n",
    "\n",
    "DIMENSION = \"starter\"  # last_bidder, contract, starter\n",
    "\n",
    "fig = px.histogram(\n",
    "    synthetic_game_data.sample(\n",
    "        min(10000, synthetic_game_data.shape[0])\n",
    "    ), \n",
    "    x=\"reward\", \n",
    "    color=DIMENSION,\n",
    "    marginal=\"box\",\n",
    "    hover_data=synthetic_game_data.columns\n",
    ")\n",
    "\n",
    "fig.update_layout(\n",
    "    title_text=f\"Distribution of reward dimensionalized by {DIMENSION}\"\n",
    ")\n",
    "\n",
    "fig.show()"
   ]
  },
  {
   "cell_type": "code",
   "execution_count": null,
   "id": "f4a60f35",
   "metadata": {},
   "outputs": [],
   "source": [
    "synthetic_game_data_unbalanced = synthetic_game_data[\n",
    "    (\n",
    "        (synthetic_game_data.reward >= 160) &\n",
    "        (synthetic_game_data.reward <= 170)\n",
    "    ) |\n",
    "    (\n",
    "        (synthetic_game_data.reward >= -170) &\n",
    "        (synthetic_game_data.reward <= -160)\n",
    "    )\n",
    "]\n",
    "synthetic_game_data_balanced = synthetic_game_data[\n",
    "    ~(\n",
    "        (synthetic_game_data.reward >= 160) &\n",
    "        (synthetic_game_data.reward <= 170)\n",
    "    ) &\n",
    "    ~(\n",
    "        (synthetic_game_data.reward >= -170) &\n",
    "        (synthetic_game_data.reward <= -160)\n",
    "    )\n",
    "]\n",
    "\n",
    "synthetic_game_data_rebalanced = synthetic_game_data_unbalanced.sample(frac=0.25)\n",
    "\n",
    "synthetic_game_data = pd.concat(\n",
    "    [synthetic_game_data_balanced, synthetic_game_data_rebalanced]\n",
    ")"
   ]
  },
  {
   "cell_type": "code",
   "execution_count": null,
   "id": "2d0d0276",
   "metadata": {},
   "outputs": [],
   "source": [
    "print(\"synthetic_game_data_unbalanced\", synthetic_game_data_unbalanced.shape)\n",
    "print(\"synthetic_game_data_balanced\", synthetic_game_data_balanced.shape)\n",
    "print(\"synthetic_game_data_rebalanced\", synthetic_game_data_rebalanced.shape)\n",
    "print(\"synthetic_game_data_final\", synthetic_game_data.shape)"
   ]
  },
  {
   "cell_type": "markdown",
   "id": "d63c33a3",
   "metadata": {},
   "source": [
    "#### Credit"
   ]
  },
  {
   "cell_type": "markdown",
   "id": "5fd506e2",
   "metadata": {},
   "source": [
    "Note:\n",
    "This content has been developed by Sean Ariel for educational purposes. \n",
    "It is a practical training that cannot be copied, reproduced, distributed without the explicit consent from the author. © Sean Ariel"
   ]
  },
  {
   "cell_type": "code",
   "execution_count": null,
   "id": "cf1c2866",
   "metadata": {},
   "outputs": [],
   "source": []
  }
 ],
 "metadata": {
  "kernelspec": {
   "display_name": "Python (mlops)",
   "language": "python",
   "name": "mlops"
  },
  "language_info": {
   "codemirror_mode": {
    "name": "ipython",
    "version": 3
   },
   "file_extension": ".py",
   "mimetype": "text/x-python",
   "name": "python",
   "nbconvert_exporter": "python",
   "pygments_lexer": "ipython3",
   "version": "3.10.13"
  }
 },
 "nbformat": 4,
 "nbformat_minor": 5
}
