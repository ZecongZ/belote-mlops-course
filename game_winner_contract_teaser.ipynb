{
 "cells": [
  {
   "cell_type": "markdown",
   "id": "56969d37",
   "metadata": {},
   "source": [
    "![title](notebooks/assets/problem.png)"
   ]
  },
  {
   "cell_type": "markdown",
   "id": "f3b368b6",
   "metadata": {},
   "source": [
    "**In other words, we will attempt to model the contract-bidding strategy.** If you are not familiar with ♠️ Belote Maniée ♠️, make sure to:\n",
    "\n",
    "- Check out the game: <a href=\"https://belotemaniee.com\">Online Belote Maniée</a>\n",
    "- Get a basic understanding of the rules: <a href=\"https://youtu.be/hyM0vTLi7LU\">Basic Tutorial</a> | <a href=\"https://youtu.be/koQ1spWhxF8\">Advanced Tutorial</a>\n",
    "\n",
    "Belote is one of the most exciting games in the contract & trick-taking family (arguably right after Bridge) - **you won't be disappointed !**"
   ]
  },
  {
   "cell_type": "code",
   "execution_count": 3,
   "id": "407bd2a5",
   "metadata": {},
   "outputs": [],
   "source": [
    "BASE_PATH = \"/Users/seanariel/Desktop/la-maniee/data/mlops\""
   ]
  },
  {
   "cell_type": "markdown",
   "id": "3543aefd",
   "metadata": {},
   "source": [
    "### Load the data"
   ]
  },
  {
   "cell_type": "code",
   "execution_count": 4,
   "id": "049fc81e",
   "metadata": {},
   "outputs": [],
   "source": [
    "synthetic_game_data = pd.read_csv(PATH_TO_SYNTHETIC_DATA)"
   ]
  },
  {
   "cell_type": "markdown",
   "id": "4e0e5331",
   "metadata": {},
   "source": [
    "### Get a first feeling of the features"
   ]
  },
  {
   "cell_type": "code",
   "execution_count": 5,
   "id": "15f42bdb",
   "metadata": {},
   "outputs": [
    {
     "data": {
      "text/html": [
       "<div>\n",
       "<style scoped>\n",
       "    .dataframe tbody tr th:only-of-type {\n",
       "        vertical-align: middle;\n",
       "    }\n",
       "\n",
       "    .dataframe tbody tr th {\n",
       "        vertical-align: top;\n",
       "    }\n",
       "\n",
       "    .dataframe thead th {\n",
       "        text-align: right;\n",
       "    }\n",
       "</style>\n",
       "<table border=\"1\" class=\"dataframe\">\n",
       "  <thead>\n",
       "    <tr style=\"text-align: right;\">\n",
       "      <th></th>\n",
       "      <th>contract</th>\n",
       "      <th>reward</th>\n",
       "      <th>starter</th>\n",
       "      <th>turn</th>\n",
       "      <th>hr_deal_p1</th>\n",
       "      <th>hr_deal_p2</th>\n",
       "      <th>last_bidder</th>\n",
       "      <th>visible_deal</th>\n",
       "      <th>total_points</th>\n",
       "      <th>features</th>\n",
       "    </tr>\n",
       "  </thead>\n",
       "  <tbody>\n",
       "    <tr>\n",
       "      <th>0</th>\n",
       "      <td>spades</td>\n",
       "      <td>-162</td>\n",
       "      <td>2</td>\n",
       "      <td>2</td>\n",
       "      <td>9♣️A❤️8❤️7♣️J♦️K♦️10❤️Q♦️J♠️Q❤️8♣️8♠️Q♣️9❤️A♠️7♠️</td>\n",
       "      <td>7❤️K♣️9♦️10♦️Q♠️7♦️A♣️10♠️8♦️A♦️9♠️K♠️K❤️J♣️J❤️10♣️</td>\n",
       "      <td>1</td>\n",
       "      <td>9♣️A❤️8❤️7♣️J♦️K♦️10❤️Q♦️J♠️Q❤️8♣️8♠️</td>\n",
       "      <td>53</td>\n",
       "      <td>{'feature_belote_rebelote_points': array([0, 0, 0, 0]), 'feature_count_of_cards': array([2, 1, 2, 2, 0, 1, 2, 2]), 'feature_count_of_suit': array([2, 5, 1, 4]), 'feature_opponent_belote_rebelote_points': array([0, 0, 0, 0]), 'feature_opponent_tierce_plus_points': array([0, 0, 0, 0]), 'feature_suit_aggressivity': array([1, 2, 0, 0, 0, 0, 0, 0]), 'feature_tierce_plus_points': array([0, 0, 0, 0])}</td>\n",
       "    </tr>\n",
       "  </tbody>\n",
       "</table>\n",
       "</div>"
      ],
      "text/plain": [
       "  contract  reward  starter  turn                                         hr_deal_p1                                           hr_deal_p2  last_bidder                           visible_deal  total_points                                                                                                                                                                                                                                                                                                                                                                                                       features\n",
       "0   spades    -162        2     2  9♣️A❤️8❤️7♣️J♦️K♦️10❤️Q♦️J♠️Q❤️8♣️8♠️Q♣️9❤️A♠️7♠️  7❤️K♣️9♦️10♦️Q♠️7♦️A♣️10♠️8♦️A♦️9♠️K♠️K❤️J♣️J❤️10♣️            1  9♣️A❤️8❤️7♣️J♦️K♦️10❤️Q♦️J♠️Q❤️8♣️8♠️            53  {'feature_belote_rebelote_points': array([0, 0, 0, 0]), 'feature_count_of_cards': array([2, 1, 2, 2, 0, 1, 2, 2]), 'feature_count_of_suit': array([2, 5, 1, 4]), 'feature_opponent_belote_rebelote_points': array([0, 0, 0, 0]), 'feature_opponent_tierce_plus_points': array([0, 0, 0, 0]), 'feature_suit_aggressivity': array([1, 2, 0, 0, 0, 0, 0, 0]), 'feature_tierce_plus_points': array([0, 0, 0, 0])}"
      ]
     },
     "execution_count": 5,
     "metadata": {},
     "output_type": "execute_result"
    }
   ],
   "source": [
    "synthetic_game_data.head(1)"
   ]
  },
  {
   "cell_type": "code",
   "execution_count": 6,
   "id": "524a5e9f",
   "metadata": {},
   "outputs": [
    {
     "name": "stdout",
     "output_type": "stream",
     "text": [
      "<class 'pandas.core.frame.DataFrame'>\n",
      "RangeIndex: 500000 entries, 0 to 499999\n",
      "Data columns (total 10 columns):\n",
      " #   Column        Non-Null Count   Dtype \n",
      "---  ------        --------------   ----- \n",
      " 0   contract      500000 non-null  object\n",
      " 1   reward        500000 non-null  int64 \n",
      " 2   starter       500000 non-null  int64 \n",
      " 3   turn          500000 non-null  int64 \n",
      " 4   hr_deal_p1    500000 non-null  object\n",
      " 5   hr_deal_p2    500000 non-null  object\n",
      " 6   last_bidder   500000 non-null  int64 \n",
      " 7   visible_deal  500000 non-null  object\n",
      " 8   total_points  500000 non-null  int64 \n",
      " 9   features      500000 non-null  object\n",
      "dtypes: int64(5), object(5)\n",
      "memory usage: 38.1+ MB\n"
     ]
    }
   ],
   "source": [
    "synthetic_game_data.info()"
   ]
  },
  {
   "cell_type": "markdown",
   "id": "666abbd1",
   "metadata": {},
   "source": [
    "**Each row in this dataset is a whole game played by the reinforcement learning agent, against himself.** The reward generated is always reflective of player 1's perspective - i.e. the real version of the agent (while you can think of player 2 as a clone of himself).\n",
    "\n",
    "Here's a quick overview of the different columns:\n",
    "- **Contract** refers to the game system the 2 players have settled on before starting the main game\n",
    "- **Reward** refers to the total number of points won (or lost, when negative) in the main game\n",
    "- **Starter** refers to the player who started the bidding, ad the maingame\n",
    "- **Turn** is irrelevant here\n",
    "- **Hr_deal_p1** refers to the whole deal held by P1\n",
    "- **Hr_deal_p2** refers to the whole deal held by p2\n",
    "- **Last_bidder** refers to the player who makes the final bid of the contract\n",
    "- **Visible_deal** refers to the cards p1 can actually see during the contract phase\n",
    "- **Total_points** refers to the face value of the visible cards held by p1 in the contract phase\n",
    "\n",
    "Regarding the generation of the last column named \"Features\":\n",
    "\n",
    "- You can read more about this process here - <a href=\"https://seanariel.com/2022/09/28/training-a-model-to-beat-me-at-my-own-game/\">Training an RL Agent to beat me at my own game</a>\n",
    "- You can get a detailed understanding of the features here - <a href=\"https://docs.google.com/document/d/1sg_NpBOSLfza1gv3qJTBxiTfs3EQD2UGoRZW9MqsvYU/edit?usp=sharing\">Detailed Feature Composition</a>"
   ]
  },
  {
   "cell_type": "markdown",
   "id": "72f28054",
   "metadata": {},
   "source": [
    "![title](notebooks/assets/features.png)"
   ]
  },
  {
   "cell_type": "markdown",
   "id": "6dc6f4f3",
   "metadata": {},
   "source": [
    "### Ensure the balance/stability in target & covariates"
   ]
  },
  {
   "cell_type": "code",
   "execution_count": 7,
   "id": "fdb3a875",
   "metadata": {},
   "outputs": [
    {
     "data": {
      "text/html": [
       "<div>\n",
       "<style scoped>\n",
       "    .dataframe tbody tr th:only-of-type {\n",
       "        vertical-align: middle;\n",
       "    }\n",
       "\n",
       "    .dataframe tbody tr th {\n",
       "        vertical-align: top;\n",
       "    }\n",
       "\n",
       "    .dataframe thead th {\n",
       "        text-align: right;\n",
       "    }\n",
       "</style>\n",
       "<table border=\"1\" class=\"dataframe\">\n",
       "  <thead>\n",
       "    <tr style=\"text-align: right;\">\n",
       "      <th></th>\n",
       "      <th>reward</th>\n",
       "      <th>starter</th>\n",
       "      <th>turn</th>\n",
       "      <th>last_bidder</th>\n",
       "      <th>total_points</th>\n",
       "    </tr>\n",
       "  </thead>\n",
       "  <tbody>\n",
       "    <tr>\n",
       "      <th>count</th>\n",
       "      <td>500000.000000</td>\n",
       "      <td>500000.000000</td>\n",
       "      <td>500000.000000</td>\n",
       "      <td>500000.000000</td>\n",
       "      <td>500000.000000</td>\n",
       "    </tr>\n",
       "    <tr>\n",
       "      <th>mean</th>\n",
       "      <td>-9.390620</td>\n",
       "      <td>1.461896</td>\n",
       "      <td>1.461896</td>\n",
       "      <td>1.461466</td>\n",
       "      <td>63.578962</td>\n",
       "    </tr>\n",
       "    <tr>\n",
       "      <th>std</th>\n",
       "      <td>147.830557</td>\n",
       "      <td>0.498546</td>\n",
       "      <td>0.498546</td>\n",
       "      <td>0.498513</td>\n",
       "      <td>22.609908</td>\n",
       "    </tr>\n",
       "    <tr>\n",
       "      <th>min</th>\n",
       "      <td>-438.000000</td>\n",
       "      <td>1.000000</td>\n",
       "      <td>1.000000</td>\n",
       "      <td>1.000000</td>\n",
       "      <td>4.000000</td>\n",
       "    </tr>\n",
       "    <tr>\n",
       "      <th>25%</th>\n",
       "      <td>-154.000000</td>\n",
       "      <td>1.000000</td>\n",
       "      <td>1.000000</td>\n",
       "      <td>1.000000</td>\n",
       "      <td>47.000000</td>\n",
       "    </tr>\n",
       "    <tr>\n",
       "      <th>50%</th>\n",
       "      <td>-2.000000</td>\n",
       "      <td>1.000000</td>\n",
       "      <td>1.000000</td>\n",
       "      <td>1.000000</td>\n",
       "      <td>60.000000</td>\n",
       "    </tr>\n",
       "    <tr>\n",
       "      <th>75%</th>\n",
       "      <td>114.000000</td>\n",
       "      <td>2.000000</td>\n",
       "      <td>2.000000</td>\n",
       "      <td>2.000000</td>\n",
       "      <td>76.000000</td>\n",
       "    </tr>\n",
       "    <tr>\n",
       "      <th>max</th>\n",
       "      <td>438.000000</td>\n",
       "      <td>2.000000</td>\n",
       "      <td>2.000000</td>\n",
       "      <td>2.000000</td>\n",
       "      <td>167.000000</td>\n",
       "    </tr>\n",
       "  </tbody>\n",
       "</table>\n",
       "</div>"
      ],
      "text/plain": [
       "              reward        starter           turn    last_bidder   total_points\n",
       "count  500000.000000  500000.000000  500000.000000  500000.000000  500000.000000\n",
       "mean       -9.390620       1.461896       1.461896       1.461466      63.578962\n",
       "std       147.830557       0.498546       0.498546       0.498513      22.609908\n",
       "min      -438.000000       1.000000       1.000000       1.000000       4.000000\n",
       "25%      -154.000000       1.000000       1.000000       1.000000      47.000000\n",
       "50%        -2.000000       1.000000       1.000000       1.000000      60.000000\n",
       "75%       114.000000       2.000000       2.000000       2.000000      76.000000\n",
       "max       438.000000       2.000000       2.000000       2.000000     167.000000"
      ]
     },
     "execution_count": 7,
     "metadata": {},
     "output_type": "execute_result"
    }
   ],
   "source": [
    "synthetic_game_data.describe()"
   ]
  },
  {
   "cell_type": "code",
   "execution_count": 10,
   "id": "1cb99b10",
   "metadata": {},
   "outputs": [
    {
     "data": {
      "text/plain": [
       "''"
      ]
     },
     "execution_count": 10,
     "metadata": {},
     "output_type": "execute_result"
    },
    {
     "data": {
      "image/png": "[encoded data removed]",
      "text/plain": [
       "<Figure size 640x480 with 3 Axes>"
      ]
     },
     "metadata": {},
     "output_type": "display_data"
    }
   ],
   "source": [
    "fig, (ax1, ax2, ax3) = plt.subplots(3)\n",
    "fig.suptitle(\"Overview of Distribution\")\n",
    "\n",
    "distribution = synthetic_game_data[\"contract\"].value_counts()\n",
    "\n",
    "ax1.bar(distribution.index, distribution.values)\n",
    "ax2.hist(synthetic_game_data[\"total_points\"], bins=np.linspace(-0, 200, 20))\n",
    "ax3.hist(synthetic_game_data[\"reward\"], bins=np.linspace(-400, 400, 50))\n",
    ";"
   ]
  },
  {
   "cell_type": "markdown",
   "id": "7058aebe",
   "metadata": {},
   "source": [
    "### Review the processed features "
   ]
  },
  {
   "cell_type": "code",
   "execution_count": 81,
   "id": "a57e4b2b",
   "metadata": {},
   "outputs": [
    {
     "data": {
      "text/html": [
       "<div>\n",
       "<style scoped>\n",
       "    .dataframe tbody tr th:only-of-type {\n",
       "        vertical-align: middle;\n",
       "    }\n",
       "\n",
       "    .dataframe tbody tr th {\n",
       "        vertical-align: top;\n",
       "    }\n",
       "\n",
       "    .dataframe thead th {\n",
       "        text-align: right;\n",
       "    }\n",
       "</style>\n",
       "<table border=\"1\" class=\"dataframe\">\n",
       "  <thead>\n",
       "    <tr style=\"text-align: right;\">\n",
       "      <th></th>\n",
       "      <th>contract</th>\n",
       "      <th>reward</th>\n",
       "      <th>last_bidder</th>\n",
       "      <th>starter</th>\n",
       "      <th>total_points</th>\n",
       "      <th>has_x_cards_in_suit_clubs</th>\n",
       "      <th>has_x_cards_in_suit_diamonds</th>\n",
       "      <th>has_x_cards_in_suit_hearts</th>\n",
       "      <th>has_x_cards_in_suit_spades</th>\n",
       "      <th>has_x_sevens</th>\n",
       "      <th>has_x_eights</th>\n",
       "      <th>has_x_nines</th>\n",
       "      <th>has_x_tens</th>\n",
       "      <th>has_x_jacks</th>\n",
       "      <th>has_x_queens</th>\n",
       "      <th>has_x_kings</th>\n",
       "      <th>has_x_aces</th>\n",
       "      <th>has_BR_at_clubs</th>\n",
       "      <th>has_BR_at_diamonds</th>\n",
       "      <th>has_BR_at_hearts</th>\n",
       "      <th>has_BR_at_spades</th>\n",
       "      <th>has_tierce_at_clubs</th>\n",
       "      <th>has_tierce_at_diamonds</th>\n",
       "      <th>has_tierce_at_hearts</th>\n",
       "      <th>has_tierce_at_spades</th>\n",
       "      <th>total_BR_points</th>\n",
       "      <th>total_tierce_points</th>\n",
       "      <th>total_AnD_points</th>\n",
       "      <th>clubs</th>\n",
       "      <th>diamonds</th>\n",
       "      <th>hearts</th>\n",
       "      <th>sans_atouts</th>\n",
       "      <th>spades</th>\n",
       "      <th>tout_atouts</th>\n",
       "      <th>p1_has_won</th>\n",
       "    </tr>\n",
       "  </thead>\n",
       "  <tbody>\n",
       "    <tr>\n",
       "      <th>0</th>\n",
       "      <td>spades</td>\n",
       "      <td>48</td>\n",
       "      <td>1</td>\n",
       "      <td>2</td>\n",
       "      <td>46</td>\n",
       "      <td>1</td>\n",
       "      <td>4</td>\n",
       "      <td>2</td>\n",
       "      <td>5</td>\n",
       "      <td>2</td>\n",
       "      <td>2</td>\n",
       "      <td>2</td>\n",
       "      <td>1</td>\n",
       "      <td>2</td>\n",
       "      <td>1</td>\n",
       "      <td>1</td>\n",
       "      <td>1</td>\n",
       "      <td>0</td>\n",
       "      <td>0</td>\n",
       "      <td>0</td>\n",
       "      <td>0</td>\n",
       "      <td>0</td>\n",
       "      <td>0</td>\n",
       "      <td>0</td>\n",
       "      <td>0</td>\n",
       "      <td>0</td>\n",
       "      <td>0</td>\n",
       "      <td>0</td>\n",
       "      <td>0</td>\n",
       "      <td>0</td>\n",
       "      <td>0</td>\n",
       "      <td>0</td>\n",
       "      <td>1</td>\n",
       "      <td>0</td>\n",
       "      <td>1</td>\n",
       "    </tr>\n",
       "    <tr>\n",
       "      <th>1</th>\n",
       "      <td>sans_atouts</td>\n",
       "      <td>-34</td>\n",
       "      <td>2</td>\n",
       "      <td>1</td>\n",
       "      <td>43</td>\n",
       "      <td>6</td>\n",
       "      <td>2</td>\n",
       "      <td>2</td>\n",
       "      <td>2</td>\n",
       "      <td>1</td>\n",
       "      <td>1</td>\n",
       "      <td>2</td>\n",
       "      <td>2</td>\n",
       "      <td>1</td>\n",
       "      <td>1</td>\n",
       "      <td>2</td>\n",
       "      <td>2</td>\n",
       "      <td>0</td>\n",
       "      <td>0</td>\n",
       "      <td>0</td>\n",
       "      <td>0</td>\n",
       "      <td>20</td>\n",
       "      <td>0</td>\n",
       "      <td>0</td>\n",
       "      <td>0</td>\n",
       "      <td>0</td>\n",
       "      <td>20</td>\n",
       "      <td>20</td>\n",
       "      <td>0</td>\n",
       "      <td>0</td>\n",
       "      <td>0</td>\n",
       "      <td>1</td>\n",
       "      <td>0</td>\n",
       "      <td>0</td>\n",
       "      <td>0</td>\n",
       "    </tr>\n",
       "    <tr>\n",
       "      <th>2</th>\n",
       "      <td>spades</td>\n",
       "      <td>-182</td>\n",
       "      <td>1</td>\n",
       "      <td>1</td>\n",
       "      <td>36</td>\n",
       "      <td>4</td>\n",
       "      <td>3</td>\n",
       "      <td>3</td>\n",
       "      <td>2</td>\n",
       "      <td>1</td>\n",
       "      <td>1</td>\n",
       "      <td>3</td>\n",
       "      <td>1</td>\n",
       "      <td>2</td>\n",
       "      <td>1</td>\n",
       "      <td>2</td>\n",
       "      <td>1</td>\n",
       "      <td>0</td>\n",
       "      <td>0</td>\n",
       "      <td>0</td>\n",
       "      <td>20</td>\n",
       "      <td>0</td>\n",
       "      <td>0</td>\n",
       "      <td>0</td>\n",
       "      <td>0</td>\n",
       "      <td>20</td>\n",
       "      <td>0</td>\n",
       "      <td>20</td>\n",
       "      <td>0</td>\n",
       "      <td>0</td>\n",
       "      <td>0</td>\n",
       "      <td>0</td>\n",
       "      <td>1</td>\n",
       "      <td>0</td>\n",
       "      <td>0</td>\n",
       "    </tr>\n",
       "    <tr>\n",
       "      <th>3</th>\n",
       "      <td>spades</td>\n",
       "      <td>88</td>\n",
       "      <td>1</td>\n",
       "      <td>1</td>\n",
       "      <td>84</td>\n",
       "      <td>5</td>\n",
       "      <td>2</td>\n",
       "      <td>4</td>\n",
       "      <td>1</td>\n",
       "      <td>3</td>\n",
       "      <td>2</td>\n",
       "      <td>0</td>\n",
       "      <td>1</td>\n",
       "      <td>2</td>\n",
       "      <td>1</td>\n",
       "      <td>1</td>\n",
       "      <td>2</td>\n",
       "      <td>0</td>\n",
       "      <td>0</td>\n",
       "      <td>20</td>\n",
       "      <td>0</td>\n",
       "      <td>0</td>\n",
       "      <td>0</td>\n",
       "      <td>0</td>\n",
       "      <td>0</td>\n",
       "      <td>20</td>\n",
       "      <td>0</td>\n",
       "      <td>20</td>\n",
       "      <td>0</td>\n",
       "      <td>0</td>\n",
       "      <td>0</td>\n",
       "      <td>0</td>\n",
       "      <td>1</td>\n",
       "      <td>0</td>\n",
       "      <td>1</td>\n",
       "    </tr>\n",
       "    <tr>\n",
       "      <th>4</th>\n",
       "      <td>tout_atouts</td>\n",
       "      <td>30</td>\n",
       "      <td>1</td>\n",
       "      <td>1</td>\n",
       "      <td>80</td>\n",
       "      <td>3</td>\n",
       "      <td>4</td>\n",
       "      <td>2</td>\n",
       "      <td>3</td>\n",
       "      <td>0</td>\n",
       "      <td>2</td>\n",
       "      <td>2</td>\n",
       "      <td>3</td>\n",
       "      <td>1</td>\n",
       "      <td>2</td>\n",
       "      <td>2</td>\n",
       "      <td>0</td>\n",
       "      <td>0</td>\n",
       "      <td>0</td>\n",
       "      <td>0</td>\n",
       "      <td>0</td>\n",
       "      <td>0</td>\n",
       "      <td>0</td>\n",
       "      <td>0</td>\n",
       "      <td>0</td>\n",
       "      <td>0</td>\n",
       "      <td>0</td>\n",
       "      <td>0</td>\n",
       "      <td>0</td>\n",
       "      <td>0</td>\n",
       "      <td>0</td>\n",
       "      <td>0</td>\n",
       "      <td>0</td>\n",
       "      <td>1</td>\n",
       "      <td>1</td>\n",
       "    </tr>\n",
       "  </tbody>\n",
       "</table>\n",
       "</div>"
      ],
      "text/plain": [
       "      contract  reward  last_bidder  starter  total_points has_x_cards_in_suit_clubs has_x_cards_in_suit_diamonds has_x_cards_in_suit_hearts has_x_cards_in_suit_spades has_x_sevens has_x_eights has_x_nines has_x_tens has_x_jacks has_x_queens has_x_kings has_x_aces has_BR_at_clubs has_BR_at_diamonds has_BR_at_hearts has_BR_at_spades has_tierce_at_clubs has_tierce_at_diamonds has_tierce_at_hearts has_tierce_at_spades total_BR_points total_tierce_points total_AnD_points  clubs  diamonds  hearts  sans_atouts  spades  tout_atouts  p1_has_won\n",
       "0       spades      48            1        2            46                         1                            4                          2                          5            2            2           2          1           2            1           1          1               0                  0                0                0                   0                      0                    0                    0               0                   0                0      0         0       0            0       1            0           1\n",
       "1  sans_atouts     -34            2        1            43                         6                            2                          2                          2            1            1           2          2           1            1           2          2               0                  0                0                0                  20                      0                    0                    0               0                  20               20      0         0       0            1       0            0           0\n",
       "2       spades    -182            1        1            36                         4                            3                          3                          2            1            1           3          1           2            1           2          1               0                  0                0               20                   0                      0                    0                    0              20                   0               20      0         0       0            0       1            0           0\n",
       "3       spades      88            1        1            84                         5                            2                          4                          1            3            2           0          1           2            1           1          2               0                  0               20                0                   0                      0                    0                    0              20                   0               20      0         0       0            0       1            0           1\n",
       "4  tout_atouts      30            1        1            80                         3                            4                          2                          3            0            2           2          3           1            2           2          0               0                  0                0                0                   0                      0                    0                    0               0                   0                0      0         0       0            0       0            1           1"
      ]
     },
     "execution_count": 81,
     "metadata": {},
     "output_type": "execute_result"
    }
   ],
   "source": [
    "feature_store.head()"
   ]
  },
  {
   "cell_type": "markdown",
   "id": "680f1d17",
   "metadata": {},
   "source": [
    "We will aim to model the variable `p1_has_won`. That is, a value of 1 when `reward > 0` or 0 otherwise. When you bid on a contract at Belote Maniée - winning it is all you should think about. **Loosing a contract you bid on is the worst outcome that can occur (regardless of the actual number of points achieve),** as you loose the sum of all the points. If you decide to outbid your opponent, you should make sure you're going to win the maingame!\n",
    "\n",
    "Let's take this party to <a href=\"https://docs.google.com/spreadsheets/d/1FX6pKsNQoQRRQGbjmy9XWrlTF3rudSfoMruaJvkm-uQ/edit?usp=sharing\">Google Big Query</a> for the Analytics heavy lifting!"
   ]
  },
  {
   "cell_type": "markdown",
   "id": "1da41ab9",
   "metadata": {},
   "source": [
    "### Generate the precision and recall metrics"
   ]
  },
  {
   "cell_type": "markdown",
   "id": "4501f1bf",
   "metadata": {},
   "source": [
    "As the source of signals coming from the covariates is quite promising, we move one to **train a Machine Learning model on this feature store through supervised learned.** This will allow us to know the contract most likely to result in a victory given any starting hand.\n",
    "\n",
    "The first results are very interesting - with a sensible ranking of feature importances and a fine looking precision recall curve!"
   ]
  },
  {
   "cell_type": "code",
   "execution_count": 138,
   "id": "50358313",
   "metadata": {},
   "outputs": [
    {
     "data": {
      "text/html": [
       "<div>\n",
       "<style scoped>\n",
       "    .dataframe tbody tr th:only-of-type {\n",
       "        vertical-align: middle;\n",
       "    }\n",
       "\n",
       "    .dataframe tbody tr th {\n",
       "        vertical-align: top;\n",
       "    }\n",
       "\n",
       "    .dataframe thead th {\n",
       "        text-align: right;\n",
       "    }\n",
       "</style>\n",
       "<table border=\"1\" class=\"dataframe\">\n",
       "  <thead>\n",
       "    <tr style=\"text-align: right;\">\n",
       "      <th></th>\n",
       "      <th>precision</th>\n",
       "      <th>recall</th>\n",
       "      <th>threshold</th>\n",
       "    </tr>\n",
       "  </thead>\n",
       "  <tbody>\n",
       "    <tr>\n",
       "      <th>0</th>\n",
       "      <td>0.494328</td>\n",
       "      <td>1.000000</td>\n",
       "      <td>0.27</td>\n",
       "    </tr>\n",
       "    <tr>\n",
       "      <th>384</th>\n",
       "      <td>0.496202</td>\n",
       "      <td>0.999768</td>\n",
       "      <td>0.28</td>\n",
       "    </tr>\n",
       "    <tr>\n",
       "      <th>2600</th>\n",
       "      <td>0.507155</td>\n",
       "      <td>0.998100</td>\n",
       "      <td>0.29</td>\n",
       "    </tr>\n",
       "    <tr>\n",
       "      <th>6212</th>\n",
       "      <td>0.524948</td>\n",
       "      <td>0.993075</td>\n",
       "      <td>0.30</td>\n",
       "    </tr>\n",
       "    <tr>\n",
       "      <th>8512</th>\n",
       "      <td>0.536269</td>\n",
       "      <td>0.988452</td>\n",
       "      <td>0.31</td>\n",
       "    </tr>\n",
       "  </tbody>\n",
       "</table>\n",
       "</div>"
      ],
      "text/plain": [
       "      precision    recall  threshold\n",
       "0      0.494328  1.000000       0.27\n",
       "384    0.496202  0.999768       0.28\n",
       "2600   0.507155  0.998100       0.29\n",
       "6212   0.524948  0.993075       0.30\n",
       "8512   0.536269  0.988452       0.31"
      ]
     },
     "execution_count": 138,
     "metadata": {},
     "output_type": "execute_result"
    }
   ],
   "source": [
    "metrics_df.head()"
   ]
  },
  {
   "cell_type": "code",
   "execution_count": 139,
   "id": "38c39318",
   "metadata": {},
   "outputs": [
    {
     "name": "stdout",
     "output_type": "stream",
     "text": [
      "ROC_AUC 0.7816897618062584\n",
      "Accuracy 0.6939742439105842\n"
     ]
    },
    {
     "data": {
      "image/png": "[encoded data removed]",
      "text/plain": [
       "<Figure size 640x480 with 1 Axes>"
      ]
     },
     "metadata": {},
     "output_type": "display_data"
    }
   ],
   "source": [
    "print(\"ROC_AUC\", roc_auc_score(target_testing, predictions))\n",
    "print(\"Accuracy\", accuracy_score(target_testing, covariates_testing.predicted))\n",
    "fig, ax = plt.subplots()\n",
    "ax.plot(metrics_df[\"recall\"].values, metrics_df[\"precision\"].values, color='purple')\n",
    "ax.set_title('Precision-Recall Curve')\n",
    "ax.set_ylabel('Precision')\n",
    "ax.set_xlabel('Recall')\n",
    "plt.show()"
   ]
  },
  {
   "cell_type": "markdown",
   "id": "6682b7bf",
   "metadata": {},
   "source": [
    "### Interpret the model"
   ]
  },
  {
   "cell_type": "code",
   "execution_count": 140,
   "id": "c297b7c7",
   "metadata": {},
   "outputs": [
    {
     "data": {
      "image/png": "[encoded data removed]",
      "text/plain": [
       "<Figure size 640x480 with 1 Axes>"
      ]
     },
     "metadata": {},
     "output_type": "display_data"
    }
   ],
   "source": [
    "importances = optimal_model.feature_importances_\n",
    "indices = np.argsort(importances)[-15:]\n",
    "plt.title('Feature Importances')\n",
    "plt.barh(range(len(indices)), importances[indices], color='b', align='center')\n",
    "plt.yticks(range(len(indices)), [COVARIATES[i] for i in indices])\n",
    "plt.xlabel('Relative Importance')\n",
    "plt.show()"
   ]
  },
  {
   "cell_type": "markdown",
   "id": "ac9537a9",
   "metadata": {},
   "source": [
    "### Putting it all together"
   ]
  },
  {
   "cell_type": "markdown",
   "id": "e36d2508",
   "metadata": {},
   "source": [
    "I retrained this model on **100M game simulations,** and deployed it to production as a containerized micro-service. This is what <a href=\"https://belotemaniee.com\">Belote Maniée</a> now looks like behind the scenes."
   ]
  },
  {
   "cell_type": "markdown",
   "id": "1b770514",
   "metadata": {},
   "source": [
    "![title](notebooks/assets/archi.png)"
   ]
  },
  {
   "cell_type": "markdown",
   "id": "446decb5",
   "metadata": {},
   "source": [
    "As it turns out - most of the questions I received regarding this projects concerned this last part, i.e. **the productization and deployment of Machine Learning models @ Scale.**\n",
    "\n",
    "Since all these questions came from **people working in Business Analytics and Data Science,** I decided to create a practical, hands-on Machine Learning Engineering & Operations training tailored for them!"
   ]
  },
  {
   "cell_type": "markdown",
   "id": "289b7cab",
   "metadata": {},
   "source": [
    "![title](notebooks/assets/training.png)"
   ]
  },
  {
   "cell_type": "markdown",
   "id": "985b22e3",
   "metadata": {},
   "source": [
    "**If that sounds interesting to you - feel free to reach out for more information** => <a href=\"https://forms.gle/pSWs6KeERfFpxdju9\"> Contact Sean Ariel </a>\n"
   ]
  },
  {
   "cell_type": "markdown",
   "id": "224183c8",
   "metadata": {},
   "source": [
    "This material has been development for learning purposes and can't be distributed without the explicit consent of it's creator.\n",
    "© Sean Ariel"
   ]
  }
 ],
 "metadata": {
  "kernelspec": {
   "display_name": "Python 3 (ipykernel)",
   "language": "python",
   "name": "python3"
  },
  "language_info": {
   "codemirror_mode": {
    "name": "ipython",
    "version": 3
   },
   "file_extension": ".py",
   "mimetype": "text/x-python",
   "name": "python",
   "nbconvert_exporter": "python",
   "pygments_lexer": "ipython3",
   "version": "3.9.12"
  }
 },
 "nbformat": 4,
 "nbformat_minor": 5
}
